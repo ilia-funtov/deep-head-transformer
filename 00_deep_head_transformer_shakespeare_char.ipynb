{
 "cells": [
  {
   "cell_type": "code",
   "execution_count": 1,
   "metadata": {},
   "outputs": [],
   "source": [
    "# A new architecture of transformer with a head where key, query, value and projections layers are replaced with multilayer feedforward networks\n",
    "# Rework of: https://github.com/karpathy/ng-video-lecture\n"
   ]
  },
  {
   "cell_type": "code",
   "execution_count": 2,
   "metadata": {},
   "outputs": [],
   "source": [
    "import os\n",
    "import urllib.request\n",
    "\n",
    "import torch\n",
    "import torch.nn as nn\n",
    "from torch.nn import functional as F\n"
   ]
  },
  {
   "cell_type": "code",
   "execution_count": 3,
   "metadata": {},
   "outputs": [
    {
     "name": "stdout",
     "output_type": "stream",
     "text": [
      "Using device: cuda\n"
     ]
    }
   ],
   "source": [
    "use_cuda = torch.cuda.is_available()\n",
    "use_mps = torch.backends.mps.is_available()\n",
    "\n",
    "if use_cuda:\n",
    "    device = torch.device(\"cuda\")\n",
    "elif use_mps:\n",
    "    device = torch.device(\"mps\")\n",
    "else:\n",
    "    device = torch.device(\"cpu\")\n",
    "\n",
    "print(f\"Using device: {device}\")\n"
   ]
  },
  {
   "cell_type": "code",
   "execution_count": 4,
   "metadata": {},
   "outputs": [],
   "source": [
    "# hyperparameters\n",
    "batch_size = 16  # how many independent sequences will we process in parallel?\n",
    "block_size = 256  # what is the maximum context length for predictions?\n",
    "max_iters = 20000\n",
    "eval_interval = 500\n",
    "learning_rate = 3e-4\n",
    "eval_iters = 200\n",
    "n_embd = 384\n",
    "n_head = 3\n",
    "n_layer = 2\n",
    "dropout = 0.2\n",
    "functions_expansion_factor = 2\n",
    "projection_expansion_factor = 2\n",
    "ffwd_expansion_factor = 2\n"
   ]
  },
  {
   "cell_type": "code",
   "execution_count": 5,
   "metadata": {},
   "outputs": [
    {
     "data": {
      "text/plain": [
       "<torch._C.Generator at 0x7f439c071f10>"
      ]
     },
     "execution_count": 5,
     "metadata": {},
     "output_type": "execute_result"
    }
   ],
   "source": [
    "torch.manual_seed(1337)\n"
   ]
  },
  {
   "cell_type": "code",
   "execution_count": 6,
   "metadata": {},
   "outputs": [],
   "source": [
    "file_url = \"https://raw.githubusercontent.com/karpathy/char-rnn/master/data/tinyshakespeare/input.txt\"\n",
    "path = \"../datasets/shakespeare_char\"\n",
    "file_path = f\"{path}/input.txt\"\n",
    "\n",
    "if not os.path.isfile(file_path):\n",
    "    os.makedirs(path, exist_ok=True)\n",
    "    print(\"Downloading dataset...\")\n",
    "    urllib.request.urlretrieve(file_url, file_path)\n",
    "\n",
    "with open(file_path, \"r\", encoding=\"utf-8\") as f:\n",
    "    text = f.read()\n"
   ]
  },
  {
   "cell_type": "code",
   "execution_count": 7,
   "metadata": {},
   "outputs": [],
   "source": [
    "# here are all the unique characters that occur in this text\n",
    "chars = sorted(list(set(text)))\n",
    "vocab_size = len(chars)\n",
    "# create a mapping from characters to integers\n",
    "stoi = {ch: i for i, ch in enumerate(chars)}\n",
    "itos = {i: ch for i, ch in enumerate(chars)}\n",
    "encode = lambda s: [\n",
    "    stoi[c] for c in s\n",
    "]  # encoder: take a string, output a list of integers\n",
    "decode = lambda l: \"\".join(\n",
    "    [itos[i] for i in l]\n",
    ")  # decoder: take a list of integers, output a string\n"
   ]
  },
  {
   "cell_type": "code",
   "execution_count": 8,
   "metadata": {},
   "outputs": [],
   "source": [
    "# Train and test splits\n",
    "data = torch.tensor(encode(text), dtype=torch.long)\n",
    "n = int(0.9 * len(data))  # first 90% will be train, rest val\n",
    "train_data = data[:n]\n",
    "val_data = data[n:]\n"
   ]
  },
  {
   "cell_type": "code",
   "execution_count": 9,
   "metadata": {},
   "outputs": [],
   "source": [
    "# data loading\n",
    "def get_batch(split):\n",
    "    # generate a small batch of data of inputs x and targets y\n",
    "    data = train_data if split == \"train\" else val_data\n",
    "    ix = torch.randint(len(data) - block_size, (batch_size,))\n",
    "    x = torch.stack([data[i : i + block_size] for i in ix])\n",
    "    y = torch.stack([data[i + 1 : i + block_size + 1] for i in ix])\n",
    "    x, y = x.to(device), y.to(device)\n",
    "    return x, y\n"
   ]
  },
  {
   "cell_type": "code",
   "execution_count": 10,
   "metadata": {},
   "outputs": [],
   "source": [
    "def calc_loss(logits: torch.Tensor, targets: torch.Tensor):\n",
    "    B, T, C = logits.shape\n",
    "    logits = logits.view(B * T, C)\n",
    "    targets = targets.view(B * T)\n",
    "    loss = F.cross_entropy(logits, targets)\n",
    "    return loss\n"
   ]
  },
  {
   "cell_type": "code",
   "execution_count": 11,
   "metadata": {},
   "outputs": [],
   "source": [
    "@torch.no_grad()\n",
    "def estimate_loss(model):\n",
    "    out = {}\n",
    "    model.eval()\n",
    "    for split in [\"train\", \"val\"]:\n",
    "        losses = torch.zeros(eval_iters)\n",
    "        for k in range(eval_iters):\n",
    "            X, Y = get_batch(split)\n",
    "            logits = model(X)\n",
    "            loss = calc_loss(logits, Y)\n",
    "            losses[k] = loss.item()\n",
    "        out[split] = losses.mean()\n",
    "    model.train()\n",
    "    return out\n"
   ]
  },
  {
   "cell_type": "code",
   "execution_count": 12,
   "metadata": {},
   "outputs": [],
   "source": [
    "class FeedFoward(nn.Module):\n",
    "    \"\"\"a simple linear layer followed by a non-linearity\"\"\"\n",
    "\n",
    "    def __init__(self, n_in, n_out, factor, dropout):\n",
    "        super().__init__()\n",
    "        self.net = nn.Sequential(\n",
    "            nn.Linear(n_in, factor * n_in),\n",
    "            nn.ReLU(),\n",
    "            nn.Linear(factor * n_in, n_out),\n",
    "            nn.Dropout(dropout),\n",
    "        )\n",
    "\n",
    "    def forward(self, x: torch.Tensor):\n",
    "        return self.net(x)\n"
   ]
  },
  {
   "cell_type": "code",
   "execution_count": 13,
   "metadata": {},
   "outputs": [],
   "source": [
    "class DeepHead(nn.Module):\n",
    "    \"\"\"one head of self-attention\"\"\"\n",
    "\n",
    "    def __init__(\n",
    "        self,\n",
    "        block_size,\n",
    "        n_embd,\n",
    "        head_size,\n",
    "        dropout,\n",
    "        functions_expansion_factor,\n",
    "    ):\n",
    "        super().__init__()\n",
    "        self.key = FeedFoward(n_embd, head_size, functions_expansion_factor, dropout)\n",
    "        self.query = FeedFoward(n_embd, head_size, functions_expansion_factor, dropout)\n",
    "        self.value = FeedFoward(n_embd, head_size, functions_expansion_factor, dropout)\n",
    "        self.dropout = nn.Dropout(dropout)\n",
    "        self.register_buffer(\"tril\", torch.tril(torch.ones(block_size, block_size)))\n",
    "\n",
    "    def forward(self, x: torch.Tensor):\n",
    "        # input of size (batch, time-step, channels)\n",
    "        # output of size (batch, time-step, head size)\n",
    "        B, T, C = x.shape\n",
    "        k = self.key(x)  # (B,T,hs)\n",
    "        q = self.query(x)  # (B,T,hs)\n",
    "        # compute attention scores (\"affinities\")\n",
    "        wei = (\n",
    "            q @ k.transpose(-2, -1) * k.shape[-1] ** -0.5\n",
    "        )  # (B, T, hs) @ (B, hs, T) -> (B, T, T)\n",
    "        wei = wei.masked_fill(self.tril[:T, :T] == 0, float(\"-inf\"))  # (B, T, T)\n",
    "        wei = F.softmax(wei, dim=-1)  # (B, T, T)\n",
    "        wei = self.dropout(wei)\n",
    "        # perform the weighted aggregation of the values\n",
    "        v = self.value(x)  # (B,T,hs)\n",
    "        out = wei @ v  # (B, T, T) @ (B, T, hs) -> (B, T, hs)\n",
    "        return out\n"
   ]
  },
  {
   "cell_type": "code",
   "execution_count": 14,
   "metadata": {},
   "outputs": [],
   "source": [
    "class MultiHeadAttention(nn.Module):\n",
    "    \"\"\"multiple heads of self-attention in parallel\"\"\"\n",
    "\n",
    "    def __init__(\n",
    "        self,\n",
    "        block_size,\n",
    "        n_embd,\n",
    "        n_head,\n",
    "        head_size,\n",
    "        dropout,\n",
    "        functions_expansion_factor,\n",
    "        projection_expansion_factor,\n",
    "    ):\n",
    "        super().__init__()\n",
    "        self.heads = nn.ModuleList(\n",
    "            [\n",
    "                DeepHead(\n",
    "                    block_size, n_embd, head_size, dropout, functions_expansion_factor\n",
    "                )\n",
    "                for _ in range(n_head)\n",
    "            ]\n",
    "        )\n",
    "        self.proj = FeedFoward(\n",
    "            head_size * n_head, n_embd, projection_expansion_factor, dropout\n",
    "        )\n",
    "\n",
    "    def forward(self, x: torch.Tensor):\n",
    "        out = torch.cat([h(x) for h in self.heads], dim=-1)\n",
    "        out = self.proj(out)\n",
    "        return out\n"
   ]
  },
  {
   "cell_type": "code",
   "execution_count": 15,
   "metadata": {},
   "outputs": [],
   "source": [
    "class Block(nn.Module):\n",
    "    \"\"\"Transformer block: communication followed by computation\"\"\"\n",
    "\n",
    "    def __init__(\n",
    "        self,\n",
    "        block_size,\n",
    "        n_embd,\n",
    "        n_head,\n",
    "        dropout,\n",
    "        functions_expansion_factor,\n",
    "        projection_expansion_factor,\n",
    "        ffwd_expansion_factor,\n",
    "    ):\n",
    "        super().__init__()\n",
    "        head_size = n_embd // n_head\n",
    "        self.sa = MultiHeadAttention(\n",
    "            block_size,\n",
    "            n_embd,\n",
    "            n_head,\n",
    "            head_size,\n",
    "            dropout,\n",
    "            functions_expansion_factor,\n",
    "            projection_expansion_factor,\n",
    "        )\n",
    "        self.ffwd = FeedFoward(n_embd, n_embd, ffwd_expansion_factor, dropout)\n",
    "        self.ln1 = nn.LayerNorm(n_embd)\n",
    "        self.ln2 = nn.LayerNorm(n_embd)\n",
    "\n",
    "    def forward(self, x: torch.Tensor):\n",
    "        x = x + self.sa(self.ln1(x))\n",
    "        x = x + self.ffwd(self.ln2(x))\n",
    "        return x\n"
   ]
  },
  {
   "cell_type": "code",
   "execution_count": 16,
   "metadata": {},
   "outputs": [],
   "source": [
    "class DeepHeadTransformerModel(nn.Module):\n",
    "    def __init__(\n",
    "        self,\n",
    "        vocab_size,\n",
    "        block_size,\n",
    "        n_embd,\n",
    "        n_layer,\n",
    "        n_head,\n",
    "        dropout,\n",
    "        functions_expansion_factor,\n",
    "        projection_expansion_factor,\n",
    "        ffwd_expansion_factor,\n",
    "    ):\n",
    "        super().__init__()\n",
    "        # each token directly reads off the logits for the next token from a lookup table\n",
    "        self.token_embedding_table = nn.Embedding(vocab_size, n_embd)\n",
    "        self.position_embedding_table = nn.Embedding(block_size, n_embd)\n",
    "        self.blocks = nn.Sequential(\n",
    "            *[\n",
    "                Block(\n",
    "                    block_size,\n",
    "                    n_embd,\n",
    "                    n_head,\n",
    "                    dropout,\n",
    "                    functions_expansion_factor,\n",
    "                    projection_expansion_factor,\n",
    "                    ffwd_expansion_factor,\n",
    "                )\n",
    "                for _ in range(n_layer)\n",
    "            ]\n",
    "        )\n",
    "        self.ln_f = nn.LayerNorm(n_embd)  # final layer norm\n",
    "        self.lm_head = nn.Linear(n_embd, vocab_size)\n",
    "\n",
    "        # better init, not covered in the original GPT video, but important, will cover in followup video\n",
    "        self.apply(self._init_weights)\n",
    "\n",
    "    def _init_weights(self, module):\n",
    "        if isinstance(module, nn.Linear):\n",
    "            torch.nn.init.normal_(module.weight, mean=0.0, std=0.02)\n",
    "            if module.bias is not None:\n",
    "                torch.nn.init.zeros_(module.bias)\n",
    "        elif isinstance(module, nn.Embedding):\n",
    "            torch.nn.init.normal_(module.weight, mean=0.0, std=0.02)\n",
    "\n",
    "    def forward(self, idx: torch.Tensor):\n",
    "        B, T = idx.shape\n",
    "\n",
    "        # idx and targets are both (B,T) tensor of integers\n",
    "        tok_emb = self.token_embedding_table(idx)  # (B,T,C)\n",
    "        pos_emb = self.position_embedding_table(torch.arange(T, device=device))  # (T,C)\n",
    "        x = tok_emb + pos_emb  # (B,T,C)\n",
    "        x = self.blocks(x)  # (B,T,C)\n",
    "        x = self.ln_f(x)  # (B,T,C)\n",
    "        logits = self.lm_head(x)  # (B,T,vocab_size)\n",
    "        return logits\n",
    "\n",
    "    def generate(self, idx: torch.Tensor, max_new_tokens: int):\n",
    "        # idx is (B, T) array of indices in the current context\n",
    "        for _ in range(max_new_tokens):\n",
    "            # crop idx to the last block_size tokens\n",
    "            idx_cond = idx[:, -block_size:]\n",
    "            # get the predictions\n",
    "            logits = self(idx_cond)\n",
    "            # focus only on the last time step\n",
    "            logits = logits[:, -1, :]  # becomes (B, C)\n",
    "            # apply softmax to get probabilities\n",
    "            probs = F.softmax(logits, dim=-1)  # (B, C)\n",
    "            # sample from the distribution\n",
    "            idx_next = torch.multinomial(probs, num_samples=1)  # (B, 1)\n",
    "            # append sampled index to the running sequence\n",
    "            idx = torch.cat((idx, idx_next), dim=1)  # (B, T+1)\n",
    "        return idx\n"
   ]
  },
  {
   "cell_type": "code",
   "execution_count": 17,
   "metadata": {},
   "outputs": [
    {
     "name": "stdout",
     "output_type": "stream",
     "text": [
      "9.610049 M parameters\n"
     ]
    }
   ],
   "source": [
    "model = DeepHeadTransformerModel(\n",
    "    vocab_size,\n",
    "    block_size,\n",
    "    n_embd,\n",
    "    n_layer,\n",
    "    n_head,\n",
    "    dropout,\n",
    "    functions_expansion_factor,\n",
    "    projection_expansion_factor,\n",
    "    ffwd_expansion_factor,\n",
    ")\n",
    "m = model.to(device)\n",
    "# print the number of parameters in the model\n",
    "print(sum(p.numel() for p in m.parameters()) / 1e6, \"M parameters\")\n"
   ]
  },
  {
   "cell_type": "code",
   "execution_count": 18,
   "metadata": {},
   "outputs": [],
   "source": [
    "# create a PyTorch optimizer\n",
    "optimizer = torch.optim.AdamW(model.parameters(), lr=learning_rate)\n"
   ]
  },
  {
   "cell_type": "code",
   "execution_count": 19,
   "metadata": {},
   "outputs": [
    {
     "name": "stdout",
     "output_type": "stream",
     "text": [
      "step 0: train loss 4.2970, val loss 4.2921\n",
      "step 500: train loss 2.1585, val loss 2.2132\n",
      "step 1000: train loss 1.7321, val loss 1.8979\n",
      "step 1500: train loss 1.5981, val loss 1.7843\n",
      "step 2000: train loss 1.5377, val loss 1.7419\n",
      "step 2500: train loss 1.4917, val loss 1.6926\n",
      "step 3000: train loss 1.4635, val loss 1.6634\n",
      "step 3500: train loss 1.4386, val loss 1.6486\n",
      "step 4000: train loss 1.4162, val loss 1.6255\n",
      "step 4500: train loss 1.3933, val loss 1.6057\n",
      "step 5000: train loss 1.3807, val loss 1.6055\n",
      "step 5500: train loss 1.3590, val loss 1.5965\n",
      "step 6000: train loss 1.3493, val loss 1.5988\n",
      "step 6500: train loss 1.3264, val loss 1.5820\n",
      "step 7000: train loss 1.3220, val loss 1.5553\n",
      "step 7500: train loss 1.3084, val loss 1.5517\n",
      "step 8000: train loss 1.2946, val loss 1.5491\n",
      "step 8500: train loss 1.2953, val loss 1.5454\n",
      "step 9000: train loss 1.2801, val loss 1.5411\n",
      "step 9500: train loss 1.2716, val loss 1.5410\n",
      "step 10000: train loss 1.2668, val loss 1.5455\n",
      "step 10500: train loss 1.2583, val loss 1.5331\n",
      "step 11000: train loss 1.2516, val loss 1.5292\n",
      "step 11500: train loss 1.2377, val loss 1.5238\n",
      "step 12000: train loss 1.2300, val loss 1.5306\n",
      "step 12500: train loss 1.2261, val loss 1.5077\n",
      "step 13000: train loss 1.2222, val loss 1.5149\n",
      "step 13500: train loss 1.2127, val loss 1.5175\n",
      "step 14000: train loss 1.2091, val loss 1.5122\n",
      "step 14500: train loss 1.2064, val loss 1.5046\n",
      "step 15000: train loss 1.1948, val loss 1.5041\n",
      "step 15500: train loss 1.1906, val loss 1.4991\n",
      "step 16000: train loss 1.1879, val loss 1.5101\n",
      "step 16500: train loss 1.1855, val loss 1.5110\n",
      "step 17000: train loss 1.1738, val loss 1.5067\n",
      "step 17500: train loss 1.1690, val loss 1.5187\n",
      "step 18000: train loss 1.1702, val loss 1.5117\n",
      "step 18500: train loss 1.1583, val loss 1.5014\n",
      "step 19000: train loss 1.1597, val loss 1.4988\n",
      "step 19500: train loss 1.1531, val loss 1.5042\n",
      "step 19999: train loss 1.1511, val loss 1.5035\n"
     ]
    }
   ],
   "source": [
    "model.train()\n",
    "\n",
    "for iter in range(max_iters):\n",
    "    # every once in a while evaluate the loss on train and val sets\n",
    "    if iter % eval_interval == 0 or iter == max_iters - 1:\n",
    "        losses = estimate_loss(model)\n",
    "        print(\n",
    "            f\"step {iter}: train loss {losses['train']:.4f}, val loss {losses['val']:.4f}\"\n",
    "        )\n",
    "\n",
    "    # sample a batch of data\n",
    "    xb, yb = get_batch(\"train\")\n",
    "\n",
    "    logits = model(xb)\n",
    "    loss = calc_loss(logits, yb)\n",
    "\n",
    "    optimizer.zero_grad(set_to_none=True)\n",
    "    loss.backward()\n",
    "    optimizer.step()\n"
   ]
  },
  {
   "cell_type": "code",
   "execution_count": 22,
   "metadata": {},
   "outputs": [
    {
     "name": "stdout",
     "output_type": "stream",
     "text": [
      "\n",
      "I'll fall thee to-morrow, and get thee thy subject,\n",
      "And thou myself answer my heart;\n",
      "Within pitiful scriment and thy nowing head:\n",
      "Thou that scouldst confess be my on royal bone.\n",
      "But so, get the matter? what petitor and here?\n",
      "I do not confessed to my heads at the entrity.\n",
      "\n",
      "PARIS:\n",
      "Go, take a mine own woe.\n",
      "\n",
      "PARIS:\n",
      "Why, no, man.\n",
      "\n",
      "JULIET:\n",
      "O husband! would you be to intent, and by love,\n",
      "Unless her commanding or to help your grave.\n",
      "\n",
      "FRIAR LAURENCE:\n",
      "From him, good God's love!\n",
      "\n",
      "MARCIUS:\n",
      "Go to, go; dispos\n"
     ]
    }
   ],
   "source": [
    "model.eval()\n",
    "\n",
    "with torch.no_grad():\n",
    "    # generate from the model\n",
    "    context = torch.zeros((1, 1), dtype=torch.long, device=device)\n",
    "    print(decode(m.generate(context, max_new_tokens=500)[0].tolist()))\n",
    "    # open('more.txt', 'w').write(decode(m.generate(context, max_new_tokens=10000)[0].tolist()))\n"
   ]
  }
 ],
 "metadata": {
  "kernelspec": {
   "display_name": "pytorch2",
   "language": "python",
   "name": "python3"
  },
  "language_info": {
   "codemirror_mode": {
    "name": "ipython",
    "version": 3
   },
   "file_extension": ".py",
   "mimetype": "text/x-python",
   "name": "python",
   "nbconvert_exporter": "python",
   "pygments_lexer": "ipython3",
   "version": "3.11.3"
  },
  "orig_nbformat": 4
 },
 "nbformat": 4,
 "nbformat_minor": 2
}
